{
 "cells": [
  {
   "cell_type": "code",
   "execution_count": 1,
   "id": "f27e9ad0-6523-49fe-97bc-0f9f4e1b0236",
   "metadata": {},
   "outputs": [],
   "source": [
    "import pickle \n",
    "import experiment_Seq2Graph_utils\n",
    "import torch\n",
    "import pandas as pd"
   ]
  },
  {
   "cell_type": "code",
   "execution_count": 2,
   "id": "5eb5087a-f0e0-4fe0-b4ec-762797572238",
   "metadata": {},
   "outputs": [],
   "source": [
    "import os\n",
    "load_strings_list=os.listdir('../data/')\n",
    "load_strings_list=['../data/' + x for x in load_strings_list]"
   ]
  },
  {
   "cell_type": "code",
   "execution_count": 3,
   "id": "005432fb-182f-42f3-8a48-deea84fb86a6",
   "metadata": {},
   "outputs": [
    {
     "data": {
      "application/vnd.jupyter.widget-view+json": {
       "model_id": "1115fe1f4972443296664cc0a3735cd9",
       "version_major": 2,
       "version_minor": 0
      },
      "text/plain": [
       "  0%|          | 0/1 [00:00<?, ?it/s]"
      ]
     },
     "metadata": {},
     "output_type": "display_data"
    }
   ],
   "source": [
    "result=experiment_Seq2Graph_utils.run_Seq2Graph_experiments(load_strings_list,repeats=5,folder_name='seq2graph_alpha_beta',pickle_path='result.pickle')"
   ]
  },
  {
   "cell_type": "code",
   "execution_count": null,
   "id": "320ac28e-57f3-4e89-b8fc-d74aba61e65e",
   "metadata": {},
   "outputs": [],
   "source": []
  }
 ],
 "metadata": {
  "kernelspec": {
   "display_name": "Python [conda env:pytorch]",
   "language": "python",
   "name": "conda-env-pytorch-py"
  },
  "language_info": {
   "codemirror_mode": {
    "name": "ipython",
    "version": 3
   },
   "file_extension": ".py",
   "mimetype": "text/x-python",
   "name": "python",
   "nbconvert_exporter": "python",
   "pygments_lexer": "ipython3",
   "version": "3.9.7"
  }
 },
 "nbformat": 4,
 "nbformat_minor": 5
}
